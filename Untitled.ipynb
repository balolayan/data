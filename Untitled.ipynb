{
 "cells": [
  {
   "cell_type": "code",
   "execution_count": 1,
   "metadata": {},
   "outputs": [],
   "source": [
    "import numpy as np\n",
    "import pandas as pd\n",
    "import matplotlib.pyplot as plt\n",
    "import seaborn as sb\n",
    "from datetime import datetime\n",
    "import math\n",
    "import warnings\n",
    "import time \n",
    "warnings.filterwarnings('ignore')\n",
    "\n",
    "%matplotlib inline"
   ]
  },
  {
   "cell_type": "code",
   "execution_count": 82,
   "metadata": {},
   "outputs": [],
   "source": [
    "df=pd.read_excel('dFrame2.xlsx')"
   ]
  },
  {
   "cell_type": "code",
   "execution_count": 6,
   "metadata": {},
   "outputs": [
    {
     "data": {
      "text/html": [
       "<div>\n",
       "<style scoped>\n",
       "    .dataframe tbody tr th:only-of-type {\n",
       "        vertical-align: middle;\n",
       "    }\n",
       "\n",
       "    .dataframe tbody tr th {\n",
       "        vertical-align: top;\n",
       "    }\n",
       "\n",
       "    .dataframe thead th {\n",
       "        text-align: right;\n",
       "    }\n",
       "</style>\n",
       "<table border=\"1\" class=\"dataframe\">\n",
       "  <thead>\n",
       "    <tr style=\"text-align: right;\">\n",
       "      <th></th>\n",
       "      <th>orderNom</th>\n",
       "      <th>phoneNom</th>\n",
       "      <th>costomerName</th>\n",
       "      <th>Gender</th>\n",
       "      <th>Region</th>\n",
       "      <th>coordinates</th>\n",
       "      <th>orderDate</th>\n",
       "      <th>orderTime</th>\n",
       "      <th>total</th>\n",
       "      <th>Gift</th>\n",
       "      <th>cancelation</th>\n",
       "      <th>reason</th>\n",
       "      <th>paymentMethod</th>\n",
       "      <th>Age</th>\n",
       "      <th>career</th>\n",
       "    </tr>\n",
       "  </thead>\n",
       "  <tbody>\n",
       "    <tr>\n",
       "      <th>0</th>\n",
       "      <td>ORDER20200521000416</td>\n",
       "      <td>503074749</td>\n",
       "      <td>Mohammed Althiyabi</td>\n",
       "      <td>ذكر</td>\n",
       "      <td>منطقة الرياض</td>\n",
       "      <td>24.790173448320967, 46.78516659751157</td>\n",
       "      <td>2020-05-21 00:00:00</td>\n",
       "      <td>01:39:28</td>\n",
       "      <td>210</td>\n",
       "      <td>لا</td>\n",
       "      <td>لا</td>\n",
       "      <td>NaN</td>\n",
       "      <td>إلكتروني</td>\n",
       "      <td>NaN</td>\n",
       "      <td>NaN</td>\n",
       "    </tr>\n",
       "    <tr>\n",
       "      <th>1</th>\n",
       "      <td>ORDER20200521000418</td>\n",
       "      <td>544924642</td>\n",
       "      <td>Ali music</td>\n",
       "      <td>ذكر</td>\n",
       "      <td>منطقة الرياض</td>\n",
       "      <td>24.83016090631858, 46.57505294169348</td>\n",
       "      <td>2020-05-21 00:00:00</td>\n",
       "      <td>02:57:22</td>\n",
       "      <td>262</td>\n",
       "      <td>لا</td>\n",
       "      <td>لا</td>\n",
       "      <td>NaN</td>\n",
       "      <td>عند الإستلام</td>\n",
       "      <td>NaN</td>\n",
       "      <td>NaN</td>\n",
       "    </tr>\n",
       "    <tr>\n",
       "      <th>2</th>\n",
       "      <td>ORDER20200531000505</td>\n",
       "      <td>563694888</td>\n",
       "      <td>Faisal Ms</td>\n",
       "      <td>ذكر</td>\n",
       "      <td>منطقة الرياض</td>\n",
       "      <td>24.757190368285, 46.79345232449343</td>\n",
       "      <td>2020-05-31 00:00:00</td>\n",
       "      <td>04:14:17</td>\n",
       "      <td>210</td>\n",
       "      <td>لا</td>\n",
       "      <td>لا</td>\n",
       "      <td>NaN</td>\n",
       "      <td>عند الإستلام</td>\n",
       "      <td>NaN</td>\n",
       "      <td>NaN</td>\n",
       "    </tr>\n",
       "    <tr>\n",
       "      <th>3</th>\n",
       "      <td>ORDER20200531000506</td>\n",
       "      <td>555557797</td>\n",
       "      <td>ابوفيصل</td>\n",
       "      <td>ذكر</td>\n",
       "      <td>منطقة الرياض</td>\n",
       "      <td>24.699285782796757, 46.7692561244922</td>\n",
       "      <td>2020-05-31 00:00:00</td>\n",
       "      <td>14:26:57</td>\n",
       "      <td>289</td>\n",
       "      <td>لا</td>\n",
       "      <td>لا</td>\n",
       "      <td>NaN</td>\n",
       "      <td>عند الإستلام</td>\n",
       "      <td>NaN</td>\n",
       "      <td>NaN</td>\n",
       "    </tr>\n",
       "    <tr>\n",
       "      <th>4</th>\n",
       "      <td>ORDER20200602000528</td>\n",
       "      <td>532565450</td>\n",
       "      <td>Abdalmohsen</td>\n",
       "      <td>ذكر</td>\n",
       "      <td>منطقة الرياض</td>\n",
       "      <td>26.293001016845896, 44.839288570560534</td>\n",
       "      <td>2020-06-02 00:00:00</td>\n",
       "      <td>19:07:59</td>\n",
       "      <td>1018</td>\n",
       "      <td>لا</td>\n",
       "      <td>لا</td>\n",
       "      <td>NaN</td>\n",
       "      <td>إلكتروني</td>\n",
       "      <td>NaN</td>\n",
       "      <td>NaN</td>\n",
       "    </tr>\n",
       "  </tbody>\n",
       "</table>\n",
       "</div>"
      ],
      "text/plain": [
       "              orderNom    phoneNom         costomerName Gender        Region  \\\n",
       "0  ORDER20200521000416   503074749   Mohammed Althiyabi    ذكر  منطقة الرياض   \n",
       "1  ORDER20200521000418   544924642            Ali music    ذكر  منطقة الرياض   \n",
       "2  ORDER20200531000505   563694888            Faisal Ms    ذكر  منطقة الرياض   \n",
       "3  ORDER20200531000506   555557797              ابوفيصل    ذكر  منطقة الرياض   \n",
       "4  ORDER20200602000528   532565450          Abdalmohsen    ذكر  منطقة الرياض   \n",
       "\n",
       "                              coordinates            orderDate orderTime  \\\n",
       "0   24.790173448320967, 46.78516659751157  2020-05-21 00:00:00  01:39:28   \n",
       "1    24.83016090631858, 46.57505294169348  2020-05-21 00:00:00  02:57:22   \n",
       "2      24.757190368285, 46.79345232449343  2020-05-31 00:00:00  04:14:17   \n",
       "3    24.699285782796757, 46.7692561244922  2020-05-31 00:00:00  14:26:57   \n",
       "4  26.293001016845896, 44.839288570560534  2020-06-02 00:00:00  19:07:59   \n",
       "\n",
       "  total Gift cancelation  reason paymentMethod  Age  career  \n",
       "0   210   لا          لا     NaN      إلكتروني  NaN     NaN  \n",
       "1   262   لا          لا     NaN  عند الإستلام  NaN     NaN  \n",
       "2   210   لا          لا     NaN  عند الإستلام  NaN     NaN  \n",
       "3   289   لا          لا     NaN  عند الإستلام  NaN     NaN  \n",
       "4  1018   لا          لا     NaN      إلكتروني  NaN     NaN  "
      ]
     },
     "execution_count": 6,
     "metadata": {},
     "output_type": "execute_result"
    }
   ],
   "source": [
    "df.head()"
   ]
  },
  {
   "cell_type": "code",
   "execution_count": 83,
   "metadata": {},
   "outputs": [
    {
     "name": "stdout",
     "output_type": "stream",
     "text": [
      "<class 'pandas.core.frame.DataFrame'>\n",
      "RangeIndex: 398 entries, 0 to 397\n",
      "Data columns (total 15 columns):\n",
      " #   Column         Non-Null Count  Dtype  \n",
      "---  ------         --------------  -----  \n",
      " 0   orderNom       398 non-null    object \n",
      " 1   phoneNom       398 non-null    object \n",
      " 2   costomerName   398 non-null    object \n",
      " 3   Gender         398 non-null    object \n",
      " 4   Region         398 non-null    object \n",
      " 5   coordinates    398 non-null    object \n",
      " 6   orderDate      398 non-null    object \n",
      " 7   orderTime      398 non-null    object \n",
      " 8   total          398 non-null    object \n",
      " 9   Gift           398 non-null    object \n",
      " 10  cancelation    398 non-null    object \n",
      " 11  reason         0 non-null      float64\n",
      " 12  paymentMethod  398 non-null    object \n",
      " 13  Age            0 non-null      float64\n",
      " 14  career         0 non-null      float64\n",
      "dtypes: float64(3), object(12)\n",
      "memory usage: 46.8+ KB\n"
     ]
    }
   ],
   "source": [
    "df.info()"
   ]
  },
  {
   "cell_type": "code",
   "execution_count": 8,
   "metadata": {},
   "outputs": [
    {
     "data": {
      "text/plain": [
       "0      503074749\n",
       "1      544924642\n",
       "2      563694888\n",
       "3      555557797\n",
       "4      532565450\n",
       "         ...    \n",
       "393    558857600\n",
       "394    543233478\n",
       "395    564205552\n",
       "396    532587876\n",
       "397    554484489\n",
       "Name: phoneNom, Length: 398, dtype: int32"
      ]
     },
     "execution_count": 8,
     "metadata": {},
     "output_type": "execute_result"
    }
   ],
   "source": [
    "df['phoneNom'].astype(str).astype(int)"
   ]
  },
  {
   "cell_type": "code",
   "execution_count": 9,
   "metadata": {},
   "outputs": [
    {
     "data": {
      "text/plain": [
       "orderNom    398\n",
       "dtype: int64"
      ]
     },
     "execution_count": 9,
     "metadata": {},
     "output_type": "execute_result"
    }
   ],
   "source": [
    "df.loc[:, ['orderNom']].nunique()"
   ]
  },
  {
   "cell_type": "code",
   "execution_count": 10,
   "metadata": {},
   "outputs": [
    {
     "data": {
      "text/plain": [
       "phoneNom    375\n",
       "dtype: int64"
      ]
     },
     "execution_count": 10,
     "metadata": {},
     "output_type": "execute_result"
    }
   ],
   "source": [
    "df.loc[:, ['phoneNom']].nunique()"
   ]
  },
  {
   "cell_type": "code",
   "execution_count": 11,
   "metadata": {},
   "outputs": [
    {
     "name": "stdout",
     "output_type": "stream",
     "text": [
      " 555378558\n",
      " 500495940\n",
      " 500495940\n",
      " 500495940\n",
      " 591112528\n",
      " 552758931\n",
      " 559937393\n",
      " 509847306\n",
      "533483050\n",
      "547317221\n",
      "547317221\n",
      "556588008\n",
      "555741124\n",
      "547317221\n",
      "555199962\n",
      "549393066\n",
      "561442200\n",
      "561442200\n",
      "561442200\n",
      "550504446\n",
      "502116702\n",
      "561442200\n",
      "561442200\n",
      "561442200\n",
      "502289082\n",
      "532837791\n",
      "541107631\n",
      "542666674\n"
     ]
    }
   ],
   "source": [
    "for i in range(0, len(df.phoneNom)):    \n",
    "    for j in range(i+1, len(df.phoneNom)):    \n",
    "        if(df.phoneNom[i] == df.phoneNom[j]):    \n",
    "            print(df.phoneNom[j]);   "
   ]
  },
  {
   "cell_type": "code",
   "execution_count": null,
   "metadata": {},
   "outputs": [],
   "source": [
    "#seen = set()\n",
    "#uniq = [x for x in df.phoneNom if x in seen or seen.add(x)]    \n",
    "#        print ('uniq');\n",
    "\n",
    "#df = df[df.duplicated(subset=['phoneNom'], keep=False)]"
   ]
  },
  {
   "cell_type": "code",
   "execution_count": null,
   "metadata": {},
   "outputs": [],
   "source": [
    "#employees = [('Stuti', 28, 'Varanasi'),\n",
    "#            ('Saumya', 32, 'Delhi'),\n",
    "#            ('Aaditya', 25, 'Mumbai'),\n",
    "#            ('Saumya', 32, 'Delhi'),\n",
    "#            ('Saumya', 32, 'Delhi'),\n",
    "#            ('Saumya', 32, 'Mumbai'),\n",
    "#            ('Aaditya', 40, 'Dehradun'),\n",
    "#            ('Seema', 32, 'Delhi')\n",
    "#            ]\n",
    "  \n",
    "# Creating a DataFrame object\n",
    "#df = pd.DataFrame(df,\n",
    "#                  columns = ['phoneNom'])\n",
    "  \n",
    "# Selecting duplicate rows except first \n",
    "# occurrence based on all columns\n",
    "#duplicate = df[df.duplicated()]\n",
    "  \n",
    "#print(\"Duplicate Rows :\")\n",
    "  \n",
    "# Print the resultant Dataframe\n",
    "#duplicate"
   ]
  },
  {
   "cell_type": "code",
   "execution_count": 12,
   "metadata": {},
   "outputs": [
    {
     "data": {
      "text/plain": [
       "orderNom           0\n",
       "phoneNom           0\n",
       "costomerName       0\n",
       "Gender             0\n",
       "Region             0\n",
       "coordinates        0\n",
       "orderDate          0\n",
       "orderTime          0\n",
       "total              0\n",
       "Gift               0\n",
       "cancelation        0\n",
       "reason           398\n",
       "paymentMethod      0\n",
       "Age              398\n",
       "career           398\n",
       "dtype: int64"
      ]
     },
     "execution_count": 12,
     "metadata": {},
     "output_type": "execute_result"
    }
   ],
   "source": [
    "df.isnull().sum()"
   ]
  },
  {
   "cell_type": "code",
   "execution_count": 13,
   "metadata": {},
   "outputs": [
    {
     "name": "stdout",
     "output_type": "stream",
     "text": [
      "<class 'pandas.core.frame.DataFrame'>\n",
      "RangeIndex: 398 entries, 0 to 397\n",
      "Data columns (total 15 columns):\n",
      " #   Column         Non-Null Count  Dtype  \n",
      "---  ------         --------------  -----  \n",
      " 0   orderNom       398 non-null    object \n",
      " 1   phoneNom       398 non-null    object \n",
      " 2   costomerName   398 non-null    object \n",
      " 3   Gender         398 non-null    object \n",
      " 4   Region         398 non-null    object \n",
      " 5   coordinates    398 non-null    object \n",
      " 6   orderDate      398 non-null    object \n",
      " 7   orderTime      398 non-null    object \n",
      " 8   total          398 non-null    object \n",
      " 9   Gift           398 non-null    object \n",
      " 10  cancelation    398 non-null    object \n",
      " 11  reason         0 non-null      float64\n",
      " 12  paymentMethod  398 non-null    object \n",
      " 13  Age            0 non-null      float64\n",
      " 14  career         0 non-null      float64\n",
      "dtypes: float64(3), object(12)\n",
      "memory usage: 46.8+ KB\n"
     ]
    }
   ],
   "source": [
    "df.info()"
   ]
  },
  {
   "cell_type": "code",
   "execution_count": 14,
   "metadata": {},
   "outputs": [],
   "source": [
    "df['orderDate'] = pd.to_datetime(df['orderDate'])\n",
    "#df['hour'] = pd.to_datetime(df['orderTime'], format='%H:%M:%S').dt.hour\n",
    "#df['orderTime'] = pd.to_datetime(df['orderTime'])\n"
   ]
  },
  {
   "cell_type": "code",
   "execution_count": null,
   "metadata": {},
   "outputs": [],
   "source": [
    "#df['orderTime'] = pd.to_datetime(df['orderTime'])"
   ]
  },
  {
   "cell_type": "code",
   "execution_count": 15,
   "metadata": {},
   "outputs": [
    {
     "name": "stdout",
     "output_type": "stream",
     "text": [
      "<class 'pandas.core.frame.DataFrame'>\n",
      "RangeIndex: 398 entries, 0 to 397\n",
      "Data columns (total 15 columns):\n",
      " #   Column         Non-Null Count  Dtype         \n",
      "---  ------         --------------  -----         \n",
      " 0   orderNom       398 non-null    object        \n",
      " 1   phoneNom       398 non-null    object        \n",
      " 2   costomerName   398 non-null    object        \n",
      " 3   Gender         398 non-null    object        \n",
      " 4   Region         398 non-null    object        \n",
      " 5   coordinates    398 non-null    object        \n",
      " 6   orderDate      398 non-null    datetime64[ns]\n",
      " 7   orderTime      398 non-null    object        \n",
      " 8   total          398 non-null    object        \n",
      " 9   Gift           398 non-null    object        \n",
      " 10  cancelation    398 non-null    object        \n",
      " 11  reason         0 non-null      float64       \n",
      " 12  paymentMethod  398 non-null    object        \n",
      " 13  Age            0 non-null      float64       \n",
      " 14  career         0 non-null      float64       \n",
      "dtypes: datetime64[ns](1), float64(3), object(11)\n",
      "memory usage: 46.8+ KB\n"
     ]
    }
   ],
   "source": [
    "df.info()"
   ]
  },
  {
   "cell_type": "code",
   "execution_count": 16,
   "metadata": {},
   "outputs": [],
   "source": [
    "order_days = ['Monday', 'Tuesday', 'Wednesday', 'Thursday', 'Friday', 'Saturday', 'Sunday']\n",
    "ordered_days = pd.api.types.CategoricalDtype(ordered = True, categories = order_days)\n",
    "\n",
    "df['day_week'] = df.orderDate.dt.strftime('%A')"
   ]
  },
  {
   "cell_type": "code",
   "execution_count": 17,
   "metadata": {},
   "outputs": [],
   "source": [
    "df['months'] = pd. DatetimeIndex(df['orderDate']).month"
   ]
  },
  {
   "cell_type": "code",
   "execution_count": 18,
   "metadata": {},
   "outputs": [],
   "source": [
    "#df['month'] = df['month'].astype(ordered_month)\n",
    "df['year'] = pd. DatetimeIndex(df['orderDate']).year"
   ]
  },
  {
   "cell_type": "code",
   "execution_count": 19,
   "metadata": {},
   "outputs": [],
   "source": [
    "df['day_week'] = df['day_week'].astype(ordered_days)"
   ]
  },
  {
   "cell_type": "code",
   "execution_count": 20,
   "metadata": {},
   "outputs": [
    {
     "data": {
      "text/html": [
       "<div>\n",
       "<style scoped>\n",
       "    .dataframe tbody tr th:only-of-type {\n",
       "        vertical-align: middle;\n",
       "    }\n",
       "\n",
       "    .dataframe tbody tr th {\n",
       "        vertical-align: top;\n",
       "    }\n",
       "\n",
       "    .dataframe thead th {\n",
       "        text-align: right;\n",
       "    }\n",
       "</style>\n",
       "<table border=\"1\" class=\"dataframe\">\n",
       "  <thead>\n",
       "    <tr style=\"text-align: right;\">\n",
       "      <th></th>\n",
       "      <th>orderNom</th>\n",
       "      <th>phoneNom</th>\n",
       "      <th>costomerName</th>\n",
       "      <th>Gender</th>\n",
       "      <th>Region</th>\n",
       "      <th>coordinates</th>\n",
       "      <th>orderDate</th>\n",
       "      <th>orderTime</th>\n",
       "      <th>total</th>\n",
       "      <th>Gift</th>\n",
       "      <th>cancelation</th>\n",
       "      <th>reason</th>\n",
       "      <th>paymentMethod</th>\n",
       "      <th>Age</th>\n",
       "      <th>career</th>\n",
       "      <th>day_week</th>\n",
       "      <th>months</th>\n",
       "      <th>year</th>\n",
       "    </tr>\n",
       "  </thead>\n",
       "  <tbody>\n",
       "    <tr>\n",
       "      <th>0</th>\n",
       "      <td>ORDER20200521000416</td>\n",
       "      <td>503074749</td>\n",
       "      <td>Mohammed Althiyabi</td>\n",
       "      <td>ذكر</td>\n",
       "      <td>منطقة الرياض</td>\n",
       "      <td>24.790173448320967, 46.78516659751157</td>\n",
       "      <td>2020-05-21</td>\n",
       "      <td>01:39:28</td>\n",
       "      <td>210</td>\n",
       "      <td>لا</td>\n",
       "      <td>لا</td>\n",
       "      <td>NaN</td>\n",
       "      <td>إلكتروني</td>\n",
       "      <td>NaN</td>\n",
       "      <td>NaN</td>\n",
       "      <td>Thursday</td>\n",
       "      <td>5</td>\n",
       "      <td>2020</td>\n",
       "    </tr>\n",
       "    <tr>\n",
       "      <th>1</th>\n",
       "      <td>ORDER20200521000418</td>\n",
       "      <td>544924642</td>\n",
       "      <td>Ali music</td>\n",
       "      <td>ذكر</td>\n",
       "      <td>منطقة الرياض</td>\n",
       "      <td>24.83016090631858, 46.57505294169348</td>\n",
       "      <td>2020-05-21</td>\n",
       "      <td>02:57:22</td>\n",
       "      <td>262</td>\n",
       "      <td>لا</td>\n",
       "      <td>لا</td>\n",
       "      <td>NaN</td>\n",
       "      <td>عند الإستلام</td>\n",
       "      <td>NaN</td>\n",
       "      <td>NaN</td>\n",
       "      <td>Thursday</td>\n",
       "      <td>5</td>\n",
       "      <td>2020</td>\n",
       "    </tr>\n",
       "    <tr>\n",
       "      <th>2</th>\n",
       "      <td>ORDER20200531000505</td>\n",
       "      <td>563694888</td>\n",
       "      <td>Faisal Ms</td>\n",
       "      <td>ذكر</td>\n",
       "      <td>منطقة الرياض</td>\n",
       "      <td>24.757190368285, 46.79345232449343</td>\n",
       "      <td>2020-05-31</td>\n",
       "      <td>04:14:17</td>\n",
       "      <td>210</td>\n",
       "      <td>لا</td>\n",
       "      <td>لا</td>\n",
       "      <td>NaN</td>\n",
       "      <td>عند الإستلام</td>\n",
       "      <td>NaN</td>\n",
       "      <td>NaN</td>\n",
       "      <td>Sunday</td>\n",
       "      <td>5</td>\n",
       "      <td>2020</td>\n",
       "    </tr>\n",
       "    <tr>\n",
       "      <th>3</th>\n",
       "      <td>ORDER20200531000506</td>\n",
       "      <td>555557797</td>\n",
       "      <td>ابوفيصل</td>\n",
       "      <td>ذكر</td>\n",
       "      <td>منطقة الرياض</td>\n",
       "      <td>24.699285782796757, 46.7692561244922</td>\n",
       "      <td>2020-05-31</td>\n",
       "      <td>14:26:57</td>\n",
       "      <td>289</td>\n",
       "      <td>لا</td>\n",
       "      <td>لا</td>\n",
       "      <td>NaN</td>\n",
       "      <td>عند الإستلام</td>\n",
       "      <td>NaN</td>\n",
       "      <td>NaN</td>\n",
       "      <td>Sunday</td>\n",
       "      <td>5</td>\n",
       "      <td>2020</td>\n",
       "    </tr>\n",
       "    <tr>\n",
       "      <th>4</th>\n",
       "      <td>ORDER20200602000528</td>\n",
       "      <td>532565450</td>\n",
       "      <td>Abdalmohsen</td>\n",
       "      <td>ذكر</td>\n",
       "      <td>منطقة الرياض</td>\n",
       "      <td>26.293001016845896, 44.839288570560534</td>\n",
       "      <td>2020-06-02</td>\n",
       "      <td>19:07:59</td>\n",
       "      <td>1018</td>\n",
       "      <td>لا</td>\n",
       "      <td>لا</td>\n",
       "      <td>NaN</td>\n",
       "      <td>إلكتروني</td>\n",
       "      <td>NaN</td>\n",
       "      <td>NaN</td>\n",
       "      <td>Tuesday</td>\n",
       "      <td>6</td>\n",
       "      <td>2020</td>\n",
       "    </tr>\n",
       "  </tbody>\n",
       "</table>\n",
       "</div>"
      ],
      "text/plain": [
       "              orderNom    phoneNom         costomerName Gender        Region  \\\n",
       "0  ORDER20200521000416   503074749   Mohammed Althiyabi    ذكر  منطقة الرياض   \n",
       "1  ORDER20200521000418   544924642            Ali music    ذكر  منطقة الرياض   \n",
       "2  ORDER20200531000505   563694888            Faisal Ms    ذكر  منطقة الرياض   \n",
       "3  ORDER20200531000506   555557797              ابوفيصل    ذكر  منطقة الرياض   \n",
       "4  ORDER20200602000528   532565450          Abdalmohsen    ذكر  منطقة الرياض   \n",
       "\n",
       "                              coordinates  orderDate orderTime total Gift  \\\n",
       "0   24.790173448320967, 46.78516659751157 2020-05-21  01:39:28   210   لا   \n",
       "1    24.83016090631858, 46.57505294169348 2020-05-21  02:57:22   262   لا   \n",
       "2      24.757190368285, 46.79345232449343 2020-05-31  04:14:17   210   لا   \n",
       "3    24.699285782796757, 46.7692561244922 2020-05-31  14:26:57   289   لا   \n",
       "4  26.293001016845896, 44.839288570560534 2020-06-02  19:07:59  1018   لا   \n",
       "\n",
       "  cancelation  reason paymentMethod  Age  career  day_week  months  year  \n",
       "0          لا     NaN      إلكتروني  NaN     NaN  Thursday       5  2020  \n",
       "1          لا     NaN  عند الإستلام  NaN     NaN  Thursday       5  2020  \n",
       "2          لا     NaN  عند الإستلام  NaN     NaN    Sunday       5  2020  \n",
       "3          لا     NaN  عند الإستلام  NaN     NaN    Sunday       5  2020  \n",
       "4          لا     NaN      إلكتروني  NaN     NaN   Tuesday       6  2020  "
      ]
     },
     "execution_count": 20,
     "metadata": {},
     "output_type": "execute_result"
    }
   ],
   "source": [
    "df.head()"
   ]
  },
  {
   "cell_type": "code",
   "execution_count": 29,
   "metadata": {
    "scrolled": true
   },
   "outputs": [
    {
     "data": {
      "text/plain": [
       "0       210\n",
       "1       262\n",
       "2       210\n",
       "3       289\n",
       "4      1018\n",
       "       ... \n",
       "393     309\n",
       "394     344\n",
       "395     309\n",
       "396     309\n",
       "397     309\n",
       "Name: total, Length: 398, dtype: int32"
      ]
     },
     "execution_count": 29,
     "metadata": {},
     "output_type": "execute_result"
    }
   ],
   "source": [
    "df['total'].astype(str).astype(int)"
   ]
  },
  {
   "cell_type": "code",
   "execution_count": 88,
   "metadata": {},
   "outputs": [],
   "source": [
    "df = df.astype({\"total\": int})"
   ]
  },
  {
   "cell_type": "code",
   "execution_count": 89,
   "metadata": {},
   "outputs": [
    {
     "name": "stdout",
     "output_type": "stream",
     "text": [
      "<class 'pandas.core.frame.DataFrame'>\n",
      "RangeIndex: 398 entries, 0 to 397\n",
      "Data columns (total 15 columns):\n",
      " #   Column         Non-Null Count  Dtype  \n",
      "---  ------         --------------  -----  \n",
      " 0   orderNom       398 non-null    object \n",
      " 1   phoneNom       398 non-null    object \n",
      " 2   costomerName   398 non-null    object \n",
      " 3   Gender         398 non-null    object \n",
      " 4   Region         398 non-null    object \n",
      " 5   coordinates    398 non-null    object \n",
      " 6   orderDate      398 non-null    object \n",
      " 7   orderTime      398 non-null    object \n",
      " 8   total          398 non-null    int32  \n",
      " 9   Gift           398 non-null    object \n",
      " 10  cancelation    398 non-null    object \n",
      " 11  reason         0 non-null      float64\n",
      " 12  paymentMethod  398 non-null    object \n",
      " 13  Age            0 non-null      float64\n",
      " 14  career         0 non-null      float64\n",
      "dtypes: float64(3), int32(1), object(11)\n",
      "memory usage: 45.2+ KB\n"
     ]
    }
   ],
   "source": [
    "df.info()"
   ]
  },
  {
   "cell_type": "code",
   "execution_count": 23,
   "metadata": {},
   "outputs": [
    {
     "name": "stdout",
     "output_type": "stream",
     "text": [
      "<class 'pandas.core.frame.DataFrame'>\n",
      "RangeIndex: 398 entries, 0 to 397\n",
      "Data columns (total 18 columns):\n",
      " #   Column         Non-Null Count  Dtype         \n",
      "---  ------         --------------  -----         \n",
      " 0   orderNom       398 non-null    object        \n",
      " 1   phoneNom       398 non-null    object        \n",
      " 2   costomerName   398 non-null    object        \n",
      " 3   Gender         398 non-null    object        \n",
      " 4   Region         398 non-null    object        \n",
      " 5   coordinates    398 non-null    object        \n",
      " 6   orderDate      398 non-null    datetime64[ns]\n",
      " 7   orderTime      398 non-null    object        \n",
      " 8   total          398 non-null    object        \n",
      " 9   Gift           398 non-null    object        \n",
      " 10  cancelation    398 non-null    object        \n",
      " 11  reason         0 non-null      float64       \n",
      " 12  paymentMethod  398 non-null    object        \n",
      " 13  Age            0 non-null      float64       \n",
      " 14  career         0 non-null      float64       \n",
      " 15  day_week       398 non-null    category      \n",
      " 16  months         398 non-null    int64         \n",
      " 17  year           398 non-null    int64         \n",
      "dtypes: category(1), datetime64[ns](1), float64(3), int64(2), object(11)\n",
      "memory usage: 53.7+ KB\n"
     ]
    }
   ],
   "source": [
    "df.info()"
   ]
  },
  {
   "cell_type": "code",
   "execution_count": 24,
   "metadata": {},
   "outputs": [
    {
     "data": {
      "text/html": [
       "<div>\n",
       "<style scoped>\n",
       "    .dataframe tbody tr th:only-of-type {\n",
       "        vertical-align: middle;\n",
       "    }\n",
       "\n",
       "    .dataframe tbody tr th {\n",
       "        vertical-align: top;\n",
       "    }\n",
       "\n",
       "    .dataframe thead th {\n",
       "        text-align: right;\n",
       "    }\n",
       "</style>\n",
       "<table border=\"1\" class=\"dataframe\">\n",
       "  <thead>\n",
       "    <tr style=\"text-align: right;\">\n",
       "      <th>Region</th>\n",
       "      <th>منطقة الحدود الشمالية</th>\n",
       "      <th>منطقة الخليج</th>\n",
       "      <th>منطقة الرياض</th>\n",
       "      <th>منطقة الشرقية</th>\n",
       "      <th>منطقة القصيم</th>\n",
       "      <th>منطقة المدينة المنورة</th>\n",
       "      <th>منطقة تبوك</th>\n",
       "      <th>منطقة حائل</th>\n",
       "      <th>منطقة عسير</th>\n",
       "      <th>منطقة مكة المكرمة</th>\n",
       "      <th>منطقة نجران</th>\n",
       "    </tr>\n",
       "    <tr>\n",
       "      <th>Gender</th>\n",
       "      <th></th>\n",
       "      <th></th>\n",
       "      <th></th>\n",
       "      <th></th>\n",
       "      <th></th>\n",
       "      <th></th>\n",
       "      <th></th>\n",
       "      <th></th>\n",
       "      <th></th>\n",
       "      <th></th>\n",
       "      <th></th>\n",
       "    </tr>\n",
       "  </thead>\n",
       "  <tbody>\n",
       "    <tr>\n",
       "      <th>أنثى</th>\n",
       "      <td>2</td>\n",
       "      <td>0</td>\n",
       "      <td>191</td>\n",
       "      <td>26</td>\n",
       "      <td>3</td>\n",
       "      <td>3</td>\n",
       "      <td>1</td>\n",
       "      <td>5</td>\n",
       "      <td>12</td>\n",
       "      <td>34</td>\n",
       "      <td>2</td>\n",
       "    </tr>\n",
       "    <tr>\n",
       "      <th>ذكر</th>\n",
       "      <td>0</td>\n",
       "      <td>1</td>\n",
       "      <td>74</td>\n",
       "      <td>20</td>\n",
       "      <td>7</td>\n",
       "      <td>1</td>\n",
       "      <td>1</td>\n",
       "      <td>0</td>\n",
       "      <td>1</td>\n",
       "      <td>13</td>\n",
       "      <td>1</td>\n",
       "    </tr>\n",
       "  </tbody>\n",
       "</table>\n",
       "</div>"
      ],
      "text/plain": [
       "Region  منطقة الحدود الشمالية  منطقة الخليج  منطقة الرياض  منطقة الشرقية  \\\n",
       "Gender                                                                     \n",
       "أنثى                        2             0           191             26   \n",
       "ذكر                         0             1            74             20   \n",
       "\n",
       "Region  منطقة القصيم  منطقة المدينة المنورة  منطقة تبوك  منطقة حائل  \\\n",
       "Gender                                                                \n",
       "أنثى               3                      3           1           5   \n",
       "ذكر                7                      1           1           0   \n",
       "\n",
       "Region  منطقة عسير  منطقة مكة المكرمة  منطقة نجران  \n",
       "Gender                                              \n",
       "أنثى            12                 34            2  \n",
       "ذكر              1                 13            1  "
      ]
     },
     "execution_count": 24,
     "metadata": {},
     "output_type": "execute_result"
    }
   ],
   "source": [
    "crosstab_1 = pd.crosstab(df[\"Gender\"], df[\"Region\"])\n",
    "crosstab_1"
   ]
  },
  {
   "cell_type": "code",
   "execution_count": 25,
   "metadata": {},
   "outputs": [
    {
     "data": {
      "image/png": "[encoded data removed]",
      "text/plain": [
       "<Figure size 432x288 with 1 Axes>"
      ]
     },
     "metadata": {
      "needs_background": "light"
     },
     "output_type": "display_data"
    }
   ],
   "source": [
    "#what day we recieved most orders \n",
    "sb.countplot(data=df, x='day_week', color= 'red');\n",
    "plt.title('what is the most trending day', fontsize = 18);\n",
    "plt.xlabel('Day of Week');\n",
    "plt.ylabel('amount of orders');"
   ]
  },
  {
   "cell_type": "code",
   "execution_count": 33,
   "metadata": {},
   "outputs": [
    {
     "data": {
      "image/png": "[encoded data removed]",
      "text/plain": [
       "<Figure size 432x288 with 1 Axes>"
      ]
     },
     "metadata": {
      "needs_background": "light"
     },
     "output_type": "display_data"
    }
   ],
   "source": [
    "sb.violinplot(data=df, x='Gender', y='total', color='red', inner='quartile');\n",
    "plt.title('What gender buy more', fontsize = 18);\n",
    "plt.xlabel('gender');\n",
    "plt.ylabel('member_birth_year');"
   ]
  },
  {
   "cell_type": "code",
   "execution_count": 34,
   "metadata": {},
   "outputs": [
    {
     "data": {
      "image/png": "[encoded data removed]",
      "text/plain": [
       "<Figure size 432x288 with 1 Axes>"
      ]
     },
     "metadata": {
      "needs_background": "light"
     },
     "output_type": "display_data"
    }
   ],
   "source": [
    "sb.violinplot(data=df, x='day_week', y='total', color='red', inner='quartile');\n",
    "plt.title('What day got more money', fontsize = 18);\n",
    "plt.xlabel('day od week');\n",
    "plt.ylabel('amount spent');"
   ]
  },
  {
   "cell_type": "code",
   "execution_count": 35,
   "metadata": {},
   "outputs": [
    {
     "data": {
      "image/png": "[encoded data removed]",
      "text/plain": [
       "<Figure size 576x360 with 1 Axes>"
      ]
     },
     "metadata": {
      "needs_background": "light"
     },
     "output_type": "display_data"
    }
   ],
   "source": [
    "#sb.violinplot(data=df, x='orderDate', y='total', color='red', inner='quartile');\n",
    "#plt.title('What gender bike more', fontsize = 18);\n",
    "#plt.xlabel('gender');\n",
    "#plt.ylabel('member_birth_year');\n",
    "\n",
    "figure_1 = df.query('cancelation == \"لا\"').groupby(\"Gender\")[\"phoneNom\"].count().sort_values(ascending=False)\n",
    "\n",
    "figure_1.plot(kind='bar', color='red', title= 'The group of gender who buy more', alpha =.75, figsize=(8,5))\n",
    "\n",
    "# graph labels\n",
    "plt.xlabel('gender')\n",
    "plt.ylabel('Number of gender buying ');"
   ]
  },
  {
   "cell_type": "code",
   "execution_count": 36,
   "metadata": {},
   "outputs": [
    {
     "data": {
      "image/png": "[encoded data removed]",
      "text/plain": [
       "<Figure size 432x432 with 1 Axes>"
      ]
     },
     "metadata": {},
     "output_type": "display_data"
    }
   ],
   "source": [
    "df.Gender.value_counts().plot.pie(figsize=(6,6), autopct='%.2f%%', explode=(0, .05))\n",
    "plt.show()"
   ]
  },
  {
   "cell_type": "code",
   "execution_count": 37,
   "metadata": {},
   "outputs": [
    {
     "data": {
      "text/html": [
       "<div>\n",
       "<style scoped>\n",
       "    .dataframe tbody tr th:only-of-type {\n",
       "        vertical-align: middle;\n",
       "    }\n",
       "\n",
       "    .dataframe tbody tr th {\n",
       "        vertical-align: top;\n",
       "    }\n",
       "\n",
       "    .dataframe thead th {\n",
       "        text-align: right;\n",
       "    }\n",
       "</style>\n",
       "<table border=\"1\" class=\"dataframe\">\n",
       "  <thead>\n",
       "    <tr style=\"text-align: right;\">\n",
       "      <th>cancelation</th>\n",
       "      <th>لا</th>\n",
       "    </tr>\n",
       "    <tr>\n",
       "      <th>Gender</th>\n",
       "      <th></th>\n",
       "    </tr>\n",
       "  </thead>\n",
       "  <tbody>\n",
       "    <tr>\n",
       "      <th>أنثى</th>\n",
       "      <td>279</td>\n",
       "    </tr>\n",
       "    <tr>\n",
       "      <th>ذكر</th>\n",
       "      <td>119</td>\n",
       "    </tr>\n",
       "  </tbody>\n",
       "</table>\n",
       "</div>"
      ],
      "text/plain": [
       "cancelation   لا\n",
       "Gender          \n",
       "أنثى         279\n",
       "ذكر          119"
      ]
     },
     "execution_count": 37,
     "metadata": {},
     "output_type": "execute_result"
    }
   ],
   "source": [
    "crosstab_2 = pd.crosstab(df[\"Gender\"], df[\"cancelation\"])\n",
    "crosstab_2"
   ]
  },
  {
   "cell_type": "code",
   "execution_count": 38,
   "metadata": {},
   "outputs": [
    {
     "data": {
      "text/html": [
       "<div>\n",
       "<style scoped>\n",
       "    .dataframe tbody tr th:only-of-type {\n",
       "        vertical-align: middle;\n",
       "    }\n",
       "\n",
       "    .dataframe tbody tr th {\n",
       "        vertical-align: top;\n",
       "    }\n",
       "\n",
       "    .dataframe thead th {\n",
       "        text-align: right;\n",
       "    }\n",
       "</style>\n",
       "<table border=\"1\" class=\"dataframe\">\n",
       "  <thead>\n",
       "    <tr style=\"text-align: right;\">\n",
       "      <th>cancelation</th>\n",
       "      <th>لا</th>\n",
       "    </tr>\n",
       "    <tr>\n",
       "      <th>day_week</th>\n",
       "      <th></th>\n",
       "    </tr>\n",
       "  </thead>\n",
       "  <tbody>\n",
       "    <tr>\n",
       "      <th>Monday</th>\n",
       "      <td>94</td>\n",
       "    </tr>\n",
       "    <tr>\n",
       "      <th>Tuesday</th>\n",
       "      <td>36</td>\n",
       "    </tr>\n",
       "    <tr>\n",
       "      <th>Wednesday</th>\n",
       "      <td>57</td>\n",
       "    </tr>\n",
       "    <tr>\n",
       "      <th>Thursday</th>\n",
       "      <td>59</td>\n",
       "    </tr>\n",
       "    <tr>\n",
       "      <th>Friday</th>\n",
       "      <td>52</td>\n",
       "    </tr>\n",
       "    <tr>\n",
       "      <th>Saturday</th>\n",
       "      <td>45</td>\n",
       "    </tr>\n",
       "    <tr>\n",
       "      <th>Sunday</th>\n",
       "      <td>55</td>\n",
       "    </tr>\n",
       "  </tbody>\n",
       "</table>\n",
       "</div>"
      ],
      "text/plain": [
       "cancelation  لا\n",
       "day_week       \n",
       "Monday       94\n",
       "Tuesday      36\n",
       "Wednesday    57\n",
       "Thursday     59\n",
       "Friday       52\n",
       "Saturday     45\n",
       "Sunday       55"
      ]
     },
     "execution_count": 38,
     "metadata": {},
     "output_type": "execute_result"
    }
   ],
   "source": [
    "crosstab_3 = pd.crosstab(df[\"day_week\"], df[\"cancelation\"])\n",
    "crosstab_3"
   ]
  },
  {
   "cell_type": "code",
   "execution_count": 39,
   "metadata": {},
   "outputs": [
    {
     "data": {
      "image/png": "[encoded data removed]",
      "text/plain": [
       "<Figure size 432x288 with 1 Axes>"
      ]
     },
     "metadata": {
      "needs_background": "light"
     },
     "output_type": "display_data"
    }
   ],
   "source": [
    "sb.violinplot(data=df, x='months', y='total', color='red', inner='quartile');\n",
    "plt.title('What month buy more', fontsize = 18);\n",
    "plt.xlabel('month');\n",
    "plt.ylabel('amount');"
   ]
  },
  {
   "cell_type": "code",
   "execution_count": 40,
   "metadata": {},
   "outputs": [
    {
     "data": {
      "image/png": "[encoded data removed]",
      "text/plain": [
       "<Figure size 432x288 with 1 Axes>"
      ]
     },
     "metadata": {
      "needs_background": "light"
     },
     "output_type": "display_data"
    }
   ],
   "source": [
    "sb.violinplot(data=df, x='year', y='total', color='red', inner='quartile');\n",
    "plt.title('the different between 2020 & 2021', fontsize = 18);\n",
    "plt.xlabel('years');\n",
    "plt.ylabel('total amount');"
   ]
  },
  {
   "cell_type": "code",
   "execution_count": 41,
   "metadata": {},
   "outputs": [
    {
     "data": {
      "image/png": "[encoded data removed]",
      "text/plain": [
       "<Figure size 432x288 with 1 Axes>"
      ]
     },
     "metadata": {
      "needs_background": "light"
     },
     "output_type": "display_data"
    }
   ],
   "source": [
    "sb.violinplot(data=df, x='months', y='year', color='red', inner='quartile');\n",
    "plt.title('What month got more buyers', fontsize = 18);\n",
    "plt.xlabel('month');\n",
    "plt.ylabel('year');"
   ]
  },
  {
   "cell_type": "code",
   "execution_count": 42,
   "metadata": {},
   "outputs": [
    {
     "data": {
      "image/png": "[encoded data removed]",
      "text/plain": [
       "<Figure size 432x288 with 1 Axes>"
      ]
     },
     "metadata": {
      "needs_background": "light"
     },
     "output_type": "display_data"
    }
   ],
   "source": [
    "sb.pointplot(data=df, x='year', y='months', hue='Gender', dodge=0.3, linestyles=\"\");\n",
    "plt.title('The average spend from the genders in each month')\n",
    "plt.xlabel('Day of Week');\n",
    "plt.ylabel('The avgerage spend from the genders per second');"
   ]
  },
  {
   "cell_type": "code",
   "execution_count": 43,
   "metadata": {},
   "outputs": [
    {
     "data": {
      "text/html": [
       "<div>\n",
       "<style scoped>\n",
       "    .dataframe tbody tr th:only-of-type {\n",
       "        vertical-align: middle;\n",
       "    }\n",
       "\n",
       "    .dataframe tbody tr th {\n",
       "        vertical-align: top;\n",
       "    }\n",
       "\n",
       "    .dataframe thead th {\n",
       "        text-align: right;\n",
       "    }\n",
       "</style>\n",
       "<table border=\"1\" class=\"dataframe\">\n",
       "  <thead>\n",
       "    <tr style=\"text-align: right;\">\n",
       "      <th>cancelation</th>\n",
       "      <th>لا</th>\n",
       "    </tr>\n",
       "    <tr>\n",
       "      <th>months</th>\n",
       "      <th></th>\n",
       "    </tr>\n",
       "  </thead>\n",
       "  <tbody>\n",
       "    <tr>\n",
       "      <th>1</th>\n",
       "      <td>7</td>\n",
       "    </tr>\n",
       "    <tr>\n",
       "      <th>2</th>\n",
       "      <td>9</td>\n",
       "    </tr>\n",
       "    <tr>\n",
       "      <th>3</th>\n",
       "      <td>1</td>\n",
       "    </tr>\n",
       "    <tr>\n",
       "      <th>4</th>\n",
       "      <td>1</td>\n",
       "    </tr>\n",
       "    <tr>\n",
       "      <th>5</th>\n",
       "      <td>9</td>\n",
       "    </tr>\n",
       "    <tr>\n",
       "      <th>6</th>\n",
       "      <td>40</td>\n",
       "    </tr>\n",
       "    <tr>\n",
       "      <th>7</th>\n",
       "      <td>67</td>\n",
       "    </tr>\n",
       "    <tr>\n",
       "      <th>8</th>\n",
       "      <td>77</td>\n",
       "    </tr>\n",
       "    <tr>\n",
       "      <th>9</th>\n",
       "      <td>60</td>\n",
       "    </tr>\n",
       "    <tr>\n",
       "      <th>10</th>\n",
       "      <td>49</td>\n",
       "    </tr>\n",
       "    <tr>\n",
       "      <th>11</th>\n",
       "      <td>63</td>\n",
       "    </tr>\n",
       "    <tr>\n",
       "      <th>12</th>\n",
       "      <td>15</td>\n",
       "    </tr>\n",
       "  </tbody>\n",
       "</table>\n",
       "</div>"
      ],
      "text/plain": [
       "cancelation  لا\n",
       "months         \n",
       "1             7\n",
       "2             9\n",
       "3             1\n",
       "4             1\n",
       "5             9\n",
       "6            40\n",
       "7            67\n",
       "8            77\n",
       "9            60\n",
       "10           49\n",
       "11           63\n",
       "12           15"
      ]
     },
     "execution_count": 43,
     "metadata": {},
     "output_type": "execute_result"
    }
   ],
   "source": [
    "crosstab_4 = pd.crosstab(df[\"months\"], df[\"cancelation\"])\n",
    "crosstab_4"
   ]
  },
  {
   "cell_type": "code",
   "execution_count": 44,
   "metadata": {},
   "outputs": [
    {
     "data": {
      "text/html": [
       "<div>\n",
       "<style scoped>\n",
       "    .dataframe tbody tr th:only-of-type {\n",
       "        vertical-align: middle;\n",
       "    }\n",
       "\n",
       "    .dataframe tbody tr th {\n",
       "        vertical-align: top;\n",
       "    }\n",
       "\n",
       "    .dataframe thead th {\n",
       "        text-align: right;\n",
       "    }\n",
       "</style>\n",
       "<table border=\"1\" class=\"dataframe\">\n",
       "  <thead>\n",
       "    <tr style=\"text-align: right;\">\n",
       "      <th>cancelation</th>\n",
       "      <th>لا</th>\n",
       "    </tr>\n",
       "    <tr>\n",
       "      <th>year</th>\n",
       "      <th></th>\n",
       "    </tr>\n",
       "  </thead>\n",
       "  <tbody>\n",
       "    <tr>\n",
       "      <th>2020</th>\n",
       "      <td>28</td>\n",
       "    </tr>\n",
       "    <tr>\n",
       "      <th>2021</th>\n",
       "      <td>370</td>\n",
       "    </tr>\n",
       "  </tbody>\n",
       "</table>\n",
       "</div>"
      ],
      "text/plain": [
       "cancelation   لا\n",
       "year            \n",
       "2020          28\n",
       "2021         370"
      ]
     },
     "execution_count": 44,
     "metadata": {},
     "output_type": "execute_result"
    }
   ],
   "source": [
    "crosstab_5 = pd.crosstab(df[\"year\"], df[\"cancelation\"])\n",
    "crosstab_5"
   ]
  },
  {
   "cell_type": "code",
   "execution_count": 45,
   "metadata": {},
   "outputs": [
    {
     "data": {
      "image/png": "[encoded data removed]",
      "text/plain": [
       "<Figure size 576x360 with 1 Axes>"
      ]
     },
     "metadata": {
      "needs_background": "light"
     },
     "output_type": "display_data"
    }
   ],
   "source": [
    "figure_2 = df.query('year == \"2020\"').groupby(\"months\")[\"phoneNom\"].count().sort_values(ascending=False)\n",
    "\n",
    "figure_2.plot(kind='bar', color='red', title= 'The group of people who buy in 2020', alpha =.75, figsize=(8,5))\n",
    "\n",
    "# graph labels\n",
    "plt.xlabel('month')\n",
    "plt.ylabel('Number of people who buy');"
   ]
  },
  {
   "cell_type": "code",
   "execution_count": 46,
   "metadata": {},
   "outputs": [
    {
     "data": {
      "text/html": [
       "<div>\n",
       "<style scoped>\n",
       "    .dataframe tbody tr th:only-of-type {\n",
       "        vertical-align: middle;\n",
       "    }\n",
       "\n",
       "    .dataframe tbody tr th {\n",
       "        vertical-align: top;\n",
       "    }\n",
       "\n",
       "    .dataframe thead th {\n",
       "        text-align: right;\n",
       "    }\n",
       "</style>\n",
       "<table border=\"1\" class=\"dataframe\">\n",
       "  <thead>\n",
       "    <tr style=\"text-align: right;\">\n",
       "      <th>months</th>\n",
       "      <th>1</th>\n",
       "      <th>2</th>\n",
       "      <th>3</th>\n",
       "      <th>4</th>\n",
       "      <th>5</th>\n",
       "      <th>6</th>\n",
       "      <th>7</th>\n",
       "      <th>8</th>\n",
       "      <th>9</th>\n",
       "      <th>10</th>\n",
       "      <th>11</th>\n",
       "      <th>12</th>\n",
       "    </tr>\n",
       "    <tr>\n",
       "      <th>year</th>\n",
       "      <th></th>\n",
       "      <th></th>\n",
       "      <th></th>\n",
       "      <th></th>\n",
       "      <th></th>\n",
       "      <th></th>\n",
       "      <th></th>\n",
       "      <th></th>\n",
       "      <th></th>\n",
       "      <th></th>\n",
       "      <th></th>\n",
       "      <th></th>\n",
       "    </tr>\n",
       "  </thead>\n",
       "  <tbody>\n",
       "    <tr>\n",
       "      <th>2020</th>\n",
       "      <td>0</td>\n",
       "      <td>0</td>\n",
       "      <td>0</td>\n",
       "      <td>0</td>\n",
       "      <td>4</td>\n",
       "      <td>10</td>\n",
       "      <td>1</td>\n",
       "      <td>1</td>\n",
       "      <td>0</td>\n",
       "      <td>1</td>\n",
       "      <td>0</td>\n",
       "      <td>11</td>\n",
       "    </tr>\n",
       "    <tr>\n",
       "      <th>2021</th>\n",
       "      <td>7</td>\n",
       "      <td>9</td>\n",
       "      <td>1</td>\n",
       "      <td>1</td>\n",
       "      <td>5</td>\n",
       "      <td>30</td>\n",
       "      <td>66</td>\n",
       "      <td>76</td>\n",
       "      <td>60</td>\n",
       "      <td>48</td>\n",
       "      <td>63</td>\n",
       "      <td>4</td>\n",
       "    </tr>\n",
       "  </tbody>\n",
       "</table>\n",
       "</div>"
      ],
      "text/plain": [
       "months  1   2   3   4   5   6   7   8   9   10  11  12\n",
       "year                                                  \n",
       "2020     0   0   0   0   4  10   1   1   0   1   0  11\n",
       "2021     7   9   1   1   5  30  66  76  60  48  63   4"
      ]
     },
     "execution_count": 46,
     "metadata": {},
     "output_type": "execute_result"
    }
   ],
   "source": [
    "crosstab_6 = pd.crosstab(df[\"year\"], df[\"months\"])\n",
    "crosstab_6"
   ]
  },
  {
   "cell_type": "code",
   "execution_count": 47,
   "metadata": {},
   "outputs": [
    {
     "data": {
      "image/png": "[encoded data removed]",
      "text/plain": [
       "<Figure size 576x360 with 1 Axes>"
      ]
     },
     "metadata": {
      "needs_background": "light"
     },
     "output_type": "display_data"
    }
   ],
   "source": [
    "figure_3 = df.query('year == \"2021\"').groupby(\"months\")[\"phoneNom\"].count().sort_values(ascending=False)\n",
    "\n",
    "figure_3.plot(kind='bar', color='red', title= 'The group of people who buy in 2021', alpha =.75, figsize=(8,5))\n",
    "\n",
    "# graph labels\n",
    "plt.xlabel('month')\n",
    "plt.ylabel('Number of people who buy');"
   ]
  },
  {
   "cell_type": "code",
   "execution_count": 48,
   "metadata": {},
   "outputs": [
    {
     "data": {
      "text/html": [
       "<div>\n",
       "<style scoped>\n",
       "    .dataframe tbody tr th:only-of-type {\n",
       "        vertical-align: middle;\n",
       "    }\n",
       "\n",
       "    .dataframe tbody tr th {\n",
       "        vertical-align: top;\n",
       "    }\n",
       "\n",
       "    .dataframe thead th {\n",
       "        text-align: right;\n",
       "    }\n",
       "</style>\n",
       "<table border=\"1\" class=\"dataframe\">\n",
       "  <thead>\n",
       "    <tr style=\"text-align: right;\">\n",
       "      <th>months</th>\n",
       "      <th>1</th>\n",
       "      <th>2</th>\n",
       "      <th>3</th>\n",
       "      <th>4</th>\n",
       "      <th>5</th>\n",
       "      <th>6</th>\n",
       "      <th>7</th>\n",
       "      <th>8</th>\n",
       "      <th>9</th>\n",
       "      <th>10</th>\n",
       "      <th>11</th>\n",
       "      <th>12</th>\n",
       "    </tr>\n",
       "    <tr>\n",
       "      <th>Region</th>\n",
       "      <th></th>\n",
       "      <th></th>\n",
       "      <th></th>\n",
       "      <th></th>\n",
       "      <th></th>\n",
       "      <th></th>\n",
       "      <th></th>\n",
       "      <th></th>\n",
       "      <th></th>\n",
       "      <th></th>\n",
       "      <th></th>\n",
       "      <th></th>\n",
       "    </tr>\n",
       "  </thead>\n",
       "  <tbody>\n",
       "    <tr>\n",
       "      <th>منطقة الحدود الشمالية</th>\n",
       "      <td>0</td>\n",
       "      <td>0</td>\n",
       "      <td>0</td>\n",
       "      <td>0</td>\n",
       "      <td>0</td>\n",
       "      <td>0</td>\n",
       "      <td>0</td>\n",
       "      <td>1</td>\n",
       "      <td>1</td>\n",
       "      <td>0</td>\n",
       "      <td>0</td>\n",
       "      <td>0</td>\n",
       "    </tr>\n",
       "    <tr>\n",
       "      <th>منطقة الخليج</th>\n",
       "      <td>0</td>\n",
       "      <td>0</td>\n",
       "      <td>0</td>\n",
       "      <td>0</td>\n",
       "      <td>0</td>\n",
       "      <td>1</td>\n",
       "      <td>0</td>\n",
       "      <td>0</td>\n",
       "      <td>0</td>\n",
       "      <td>0</td>\n",
       "      <td>0</td>\n",
       "      <td>0</td>\n",
       "    </tr>\n",
       "    <tr>\n",
       "      <th>منطقة الرياض</th>\n",
       "      <td>6</td>\n",
       "      <td>6</td>\n",
       "      <td>1</td>\n",
       "      <td>1</td>\n",
       "      <td>5</td>\n",
       "      <td>29</td>\n",
       "      <td>44</td>\n",
       "      <td>51</td>\n",
       "      <td>36</td>\n",
       "      <td>33</td>\n",
       "      <td>39</td>\n",
       "      <td>14</td>\n",
       "    </tr>\n",
       "    <tr>\n",
       "      <th>منطقة الشرقية</th>\n",
       "      <td>1</td>\n",
       "      <td>2</td>\n",
       "      <td>0</td>\n",
       "      <td>0</td>\n",
       "      <td>2</td>\n",
       "      <td>2</td>\n",
       "      <td>7</td>\n",
       "      <td>6</td>\n",
       "      <td>7</td>\n",
       "      <td>8</td>\n",
       "      <td>10</td>\n",
       "      <td>1</td>\n",
       "    </tr>\n",
       "    <tr>\n",
       "      <th>منطقة القصيم</th>\n",
       "      <td>0</td>\n",
       "      <td>0</td>\n",
       "      <td>0</td>\n",
       "      <td>0</td>\n",
       "      <td>0</td>\n",
       "      <td>1</td>\n",
       "      <td>1</td>\n",
       "      <td>2</td>\n",
       "      <td>3</td>\n",
       "      <td>0</td>\n",
       "      <td>3</td>\n",
       "      <td>0</td>\n",
       "    </tr>\n",
       "    <tr>\n",
       "      <th>منطقة المدينة المنورة</th>\n",
       "      <td>0</td>\n",
       "      <td>0</td>\n",
       "      <td>0</td>\n",
       "      <td>0</td>\n",
       "      <td>0</td>\n",
       "      <td>0</td>\n",
       "      <td>0</td>\n",
       "      <td>3</td>\n",
       "      <td>1</td>\n",
       "      <td>0</td>\n",
       "      <td>0</td>\n",
       "      <td>0</td>\n",
       "    </tr>\n",
       "    <tr>\n",
       "      <th>منطقة تبوك</th>\n",
       "      <td>0</td>\n",
       "      <td>0</td>\n",
       "      <td>0</td>\n",
       "      <td>0</td>\n",
       "      <td>0</td>\n",
       "      <td>1</td>\n",
       "      <td>0</td>\n",
       "      <td>0</td>\n",
       "      <td>0</td>\n",
       "      <td>0</td>\n",
       "      <td>1</td>\n",
       "      <td>0</td>\n",
       "    </tr>\n",
       "    <tr>\n",
       "      <th>منطقة حائل</th>\n",
       "      <td>0</td>\n",
       "      <td>0</td>\n",
       "      <td>0</td>\n",
       "      <td>0</td>\n",
       "      <td>0</td>\n",
       "      <td>0</td>\n",
       "      <td>2</td>\n",
       "      <td>0</td>\n",
       "      <td>1</td>\n",
       "      <td>1</td>\n",
       "      <td>1</td>\n",
       "      <td>0</td>\n",
       "    </tr>\n",
       "    <tr>\n",
       "      <th>منطقة عسير</th>\n",
       "      <td>0</td>\n",
       "      <td>0</td>\n",
       "      <td>0</td>\n",
       "      <td>0</td>\n",
       "      <td>0</td>\n",
       "      <td>1</td>\n",
       "      <td>3</td>\n",
       "      <td>2</td>\n",
       "      <td>4</td>\n",
       "      <td>3</td>\n",
       "      <td>0</td>\n",
       "      <td>0</td>\n",
       "    </tr>\n",
       "    <tr>\n",
       "      <th>منطقة مكة المكرمة</th>\n",
       "      <td>0</td>\n",
       "      <td>1</td>\n",
       "      <td>0</td>\n",
       "      <td>0</td>\n",
       "      <td>2</td>\n",
       "      <td>5</td>\n",
       "      <td>10</td>\n",
       "      <td>12</td>\n",
       "      <td>7</td>\n",
       "      <td>2</td>\n",
       "      <td>8</td>\n",
       "      <td>0</td>\n",
       "    </tr>\n",
       "    <tr>\n",
       "      <th>منطقة نجران</th>\n",
       "      <td>0</td>\n",
       "      <td>0</td>\n",
       "      <td>0</td>\n",
       "      <td>0</td>\n",
       "      <td>0</td>\n",
       "      <td>0</td>\n",
       "      <td>0</td>\n",
       "      <td>0</td>\n",
       "      <td>0</td>\n",
       "      <td>2</td>\n",
       "      <td>1</td>\n",
       "      <td>0</td>\n",
       "    </tr>\n",
       "  </tbody>\n",
       "</table>\n",
       "</div>"
      ],
      "text/plain": [
       "months                 1   2   3   4   5   6   7   8   9   10  11  12\n",
       "Region                                                               \n",
       "منطقة الحدود الشمالية   0   0   0   0   0   0   0   1   1   0   0   0\n",
       "منطقة الخليج            0   0   0   0   0   1   0   0   0   0   0   0\n",
       "منطقة الرياض            6   6   1   1   5  29  44  51  36  33  39  14\n",
       "منطقة الشرقية           1   2   0   0   2   2   7   6   7   8  10   1\n",
       "منطقة القصيم            0   0   0   0   0   1   1   2   3   0   3   0\n",
       "منطقة المدينة المنورة   0   0   0   0   0   0   0   3   1   0   0   0\n",
       "منطقة تبوك              0   0   0   0   0   1   0   0   0   0   1   0\n",
       "منطقة حائل              0   0   0   0   0   0   2   0   1   1   1   0\n",
       "منطقة عسير              0   0   0   0   0   1   3   2   4   3   0   0\n",
       "منطقة مكة المكرمة       0   1   0   0   2   5  10  12   7   2   8   0\n",
       "منطقة نجران             0   0   0   0   0   0   0   0   0   2   1   0"
      ]
     },
     "execution_count": 48,
     "metadata": {},
     "output_type": "execute_result"
    }
   ],
   "source": [
    "crosstab_7 = pd.crosstab(df[\"Region\"], df[\"months\"])\n",
    "crosstab_7"
   ]
  },
  {
   "cell_type": "code",
   "execution_count": 49,
   "metadata": {},
   "outputs": [
    {
     "data": {
      "image/png": "[encoded data removed]",
      "text/plain": [
       "<Figure size 576x360 with 1 Axes>"
      ]
     },
     "metadata": {
      "needs_background": "light"
     },
     "output_type": "display_data"
    }
   ],
   "source": [
    "figure_4 = df.query('year == \"2021\"').groupby(\"Region\")[\"phoneNom\"].count().sort_values(ascending=False)\n",
    "\n",
    "figure_4.plot(kind='bar', color='red', title= 'The group of people who buy in 2021', alpha =.75, figsize=(8,5))\n",
    "\n",
    "# graph labels\n",
    "plt.xlabel('month')\n",
    "plt.ylabel('Number of people who buy');"
   ]
  },
  {
   "cell_type": "code",
   "execution_count": 50,
   "metadata": {},
   "outputs": [
    {
     "data": {
      "image/png": "[encoded data removed]",
      "text/plain": [
       "<Figure size 576x360 with 1 Axes>"
      ]
     },
     "metadata": {
      "needs_background": "light"
     },
     "output_type": "display_data"
    }
   ],
   "source": [
    "figure_5 = df.query('year == \"2020\"').groupby(\"Region\")[\"phoneNom\"].count().sort_values(ascending=False)\n",
    "\n",
    "figure_5.plot(kind='bar', color='red', title= 'The group of people who buy in 2020', alpha =.75, figsize=(8,5))\n",
    "\n",
    "# graph labels\n",
    "plt.xlabel('month')\n",
    "plt.ylabel('Number of people who buy');"
   ]
  },
  {
   "cell_type": "code",
   "execution_count": 51,
   "metadata": {},
   "outputs": [
    {
     "data": {
      "text/html": [
       "<div>\n",
       "<style scoped>\n",
       "    .dataframe tbody tr th:only-of-type {\n",
       "        vertical-align: middle;\n",
       "    }\n",
       "\n",
       "    .dataframe tbody tr th {\n",
       "        vertical-align: top;\n",
       "    }\n",
       "\n",
       "    .dataframe thead tr th {\n",
       "        text-align: left;\n",
       "    }\n",
       "\n",
       "    .dataframe thead tr:last-of-type th {\n",
       "        text-align: right;\n",
       "    }\n",
       "</style>\n",
       "<table border=\"1\" class=\"dataframe\">\n",
       "  <thead>\n",
       "    <tr>\n",
       "      <th></th>\n",
       "      <th></th>\n",
       "      <th>mean</th>\n",
       "      <th>len</th>\n",
       "      <th>sum</th>\n",
       "    </tr>\n",
       "    <tr>\n",
       "      <th></th>\n",
       "      <th></th>\n",
       "      <th>total</th>\n",
       "      <th>total</th>\n",
       "      <th>total</th>\n",
       "    </tr>\n",
       "    <tr>\n",
       "      <th>Region</th>\n",
       "      <th>year</th>\n",
       "      <th></th>\n",
       "      <th></th>\n",
       "      <th></th>\n",
       "    </tr>\n",
       "  </thead>\n",
       "  <tbody>\n",
       "    <tr>\n",
       "      <th>منطقة الحدود الشمالية</th>\n",
       "      <th>2021</th>\n",
       "      <td>470.000000</td>\n",
       "      <td>2</td>\n",
       "      <td>940</td>\n",
       "    </tr>\n",
       "    <tr>\n",
       "      <th>منطقة الخليج</th>\n",
       "      <th>2021</th>\n",
       "      <td>829.000000</td>\n",
       "      <td>1</td>\n",
       "      <td>829</td>\n",
       "    </tr>\n",
       "    <tr>\n",
       "      <th rowspan=\"2\" valign=\"top\">منطقة الرياض</th>\n",
       "      <th>2020</th>\n",
       "      <td>332.920000</td>\n",
       "      <td>25</td>\n",
       "      <td>8323</td>\n",
       "    </tr>\n",
       "    <tr>\n",
       "      <th>2021</th>\n",
       "      <td>426.141667</td>\n",
       "      <td>240</td>\n",
       "      <td>102274</td>\n",
       "    </tr>\n",
       "    <tr>\n",
       "      <th rowspan=\"2\" valign=\"top\">منطقة الشرقية</th>\n",
       "      <th>2020</th>\n",
       "      <td>373.000000</td>\n",
       "      <td>1</td>\n",
       "      <td>373</td>\n",
       "    </tr>\n",
       "    <tr>\n",
       "      <th>2021</th>\n",
       "      <td>357.377778</td>\n",
       "      <td>45</td>\n",
       "      <td>16082</td>\n",
       "    </tr>\n",
       "    <tr>\n",
       "      <th rowspan=\"2\" valign=\"top\">منطقة القصيم</th>\n",
       "      <th>2020</th>\n",
       "      <td>282.000000</td>\n",
       "      <td>1</td>\n",
       "      <td>282</td>\n",
       "    </tr>\n",
       "    <tr>\n",
       "      <th>2021</th>\n",
       "      <td>453.555556</td>\n",
       "      <td>9</td>\n",
       "      <td>4082</td>\n",
       "    </tr>\n",
       "    <tr>\n",
       "      <th>منطقة المدينة المنورة</th>\n",
       "      <th>2021</th>\n",
       "      <td>395.500000</td>\n",
       "      <td>4</td>\n",
       "      <td>1582</td>\n",
       "    </tr>\n",
       "    <tr>\n",
       "      <th>منطقة تبوك</th>\n",
       "      <th>2021</th>\n",
       "      <td>479.500000</td>\n",
       "      <td>2</td>\n",
       "      <td>959</td>\n",
       "    </tr>\n",
       "    <tr>\n",
       "      <th>منطقة حائل</th>\n",
       "      <th>2021</th>\n",
       "      <td>451.400000</td>\n",
       "      <td>5</td>\n",
       "      <td>2257</td>\n",
       "    </tr>\n",
       "    <tr>\n",
       "      <th>منطقة عسير</th>\n",
       "      <th>2021</th>\n",
       "      <td>452.000000</td>\n",
       "      <td>13</td>\n",
       "      <td>5876</td>\n",
       "    </tr>\n",
       "    <tr>\n",
       "      <th rowspan=\"2\" valign=\"top\">منطقة مكة المكرمة</th>\n",
       "      <th>2020</th>\n",
       "      <td>262.000000</td>\n",
       "      <td>1</td>\n",
       "      <td>262</td>\n",
       "    </tr>\n",
       "    <tr>\n",
       "      <th>2021</th>\n",
       "      <td>455.152174</td>\n",
       "      <td>46</td>\n",
       "      <td>20937</td>\n",
       "    </tr>\n",
       "    <tr>\n",
       "      <th>منطقة نجران</th>\n",
       "      <th>2021</th>\n",
       "      <td>125.666667</td>\n",
       "      <td>3</td>\n",
       "      <td>377</td>\n",
       "    </tr>\n",
       "  </tbody>\n",
       "</table>\n",
       "</div>"
      ],
      "text/plain": [
       "                                  mean   len     sum\n",
       "                                 total total   total\n",
       "Region                year                          \n",
       "منطقة الحدود الشمالية 2021  470.000000     2     940\n",
       "منطقة الخليج          2021  829.000000     1     829\n",
       "منطقة الرياض          2020  332.920000    25    8323\n",
       "                      2021  426.141667   240  102274\n",
       "منطقة الشرقية         2020  373.000000     1     373\n",
       "                      2021  357.377778    45   16082\n",
       "منطقة القصيم          2020  282.000000     1     282\n",
       "                      2021  453.555556     9    4082\n",
       "منطقة المدينة المنورة 2021  395.500000     4    1582\n",
       "منطقة تبوك            2021  479.500000     2     959\n",
       "منطقة حائل            2021  451.400000     5    2257\n",
       "منطقة عسير            2021  452.000000    13    5876\n",
       "منطقة مكة المكرمة     2020  262.000000     1     262\n",
       "                      2021  455.152174    46   20937\n",
       "منطقة نجران           2021  125.666667     3     377"
      ]
     },
     "execution_count": 51,
     "metadata": {},
     "output_type": "execute_result"
    }
   ],
   "source": [
    "pd.pivot_table(df,index=[\"Region\", \"year\"],  values=[\"total\"], aggfunc=[np.mean,len, sum])"
   ]
  },
  {
   "cell_type": "code",
   "execution_count": 62,
   "metadata": {},
   "outputs": [
    {
     "data": {
      "text/html": [
       "<div>\n",
       "<style scoped>\n",
       "    .dataframe tbody tr th:only-of-type {\n",
       "        vertical-align: middle;\n",
       "    }\n",
       "\n",
       "    .dataframe tbody tr th {\n",
       "        vertical-align: top;\n",
       "    }\n",
       "\n",
       "    .dataframe thead th {\n",
       "        text-align: right;\n",
       "    }\n",
       "</style>\n",
       "<table border=\"1\" class=\"dataframe\">\n",
       "  <thead>\n",
       "    <tr style=\"text-align: right;\">\n",
       "      <th></th>\n",
       "      <th>months</th>\n",
       "      <th>total</th>\n",
       "      <th>year</th>\n",
       "    </tr>\n",
       "    <tr>\n",
       "      <th>orderTime</th>\n",
       "      <th></th>\n",
       "      <th></th>\n",
       "      <th></th>\n",
       "    </tr>\n",
       "  </thead>\n",
       "  <tbody>\n",
       "    <tr>\n",
       "      <th>00:20:26</th>\n",
       "      <td>9.0</td>\n",
       "      <td>520</td>\n",
       "      <td>2021</td>\n",
       "    </tr>\n",
       "    <tr>\n",
       "      <th>00:21:25</th>\n",
       "      <td>5.0</td>\n",
       "      <td>184</td>\n",
       "      <td>2021</td>\n",
       "    </tr>\n",
       "    <tr>\n",
       "      <th>00:26:10</th>\n",
       "      <td>6.0</td>\n",
       "      <td>679</td>\n",
       "      <td>2021</td>\n",
       "    </tr>\n",
       "    <tr>\n",
       "      <th>00:34:34</th>\n",
       "      <td>11.0</td>\n",
       "      <td>309</td>\n",
       "      <td>2021</td>\n",
       "    </tr>\n",
       "    <tr>\n",
       "      <th>00:38:19</th>\n",
       "      <td>10.0</td>\n",
       "      <td>589</td>\n",
       "      <td>2021</td>\n",
       "    </tr>\n",
       "    <tr>\n",
       "      <th>...</th>\n",
       "      <td>...</td>\n",
       "      <td>...</td>\n",
       "      <td>...</td>\n",
       "    </tr>\n",
       "    <tr>\n",
       "      <th>23:18:24</th>\n",
       "      <td>10.0</td>\n",
       "      <td>309</td>\n",
       "      <td>2021</td>\n",
       "    </tr>\n",
       "    <tr>\n",
       "      <th>23:33:43</th>\n",
       "      <td>10.0</td>\n",
       "      <td>79</td>\n",
       "      <td>2021</td>\n",
       "    </tr>\n",
       "    <tr>\n",
       "      <th>23:37:29</th>\n",
       "      <td>1.0</td>\n",
       "      <td>324</td>\n",
       "      <td>2021</td>\n",
       "    </tr>\n",
       "    <tr>\n",
       "      <th>23:37:43</th>\n",
       "      <td>8.0</td>\n",
       "      <td>420</td>\n",
       "      <td>2021</td>\n",
       "    </tr>\n",
       "    <tr>\n",
       "      <th>23:57:47</th>\n",
       "      <td>7.0</td>\n",
       "      <td>289</td>\n",
       "      <td>2021</td>\n",
       "    </tr>\n",
       "  </tbody>\n",
       "</table>\n",
       "<p>397 rows × 3 columns</p>\n",
       "</div>"
      ],
      "text/plain": [
       "           months  total  year\n",
       "orderTime                     \n",
       "00:20:26      9.0    520  2021\n",
       "00:21:25      5.0    184  2021\n",
       "00:26:10      6.0    679  2021\n",
       "00:34:34     11.0    309  2021\n",
       "00:38:19     10.0    589  2021\n",
       "...           ...    ...   ...\n",
       " 23:18:24    10.0    309  2021\n",
       " 23:33:43    10.0     79  2021\n",
       " 23:37:29     1.0    324  2021\n",
       " 23:37:43     8.0    420  2021\n",
       " 23:57:47     7.0    289  2021\n",
       "\n",
       "[397 rows x 3 columns]"
      ]
     },
     "execution_count": 62,
     "metadata": {},
     "output_type": "execute_result"
    }
   ],
   "source": [
    "pd.pivot_table(df,index=[\"orderTime\"])"
   ]
  },
  {
   "cell_type": "code",
   "execution_count": 53,
   "metadata": {},
   "outputs": [
    {
     "name": "stdout",
     "output_type": "stream",
     "text": [
      "<class 'pandas.core.frame.DataFrame'>\n",
      "RangeIndex: 398 entries, 0 to 397\n",
      "Data columns (total 18 columns):\n",
      " #   Column         Non-Null Count  Dtype         \n",
      "---  ------         --------------  -----         \n",
      " 0   orderNom       398 non-null    object        \n",
      " 1   phoneNom       398 non-null    object        \n",
      " 2   costomerName   398 non-null    object        \n",
      " 3   Gender         398 non-null    object        \n",
      " 4   Region         398 non-null    object        \n",
      " 5   coordinates    398 non-null    object        \n",
      " 6   orderDate      398 non-null    datetime64[ns]\n",
      " 7   orderTime      398 non-null    object        \n",
      " 8   total          398 non-null    int32         \n",
      " 9   Gift           398 non-null    object        \n",
      " 10  cancelation    398 non-null    object        \n",
      " 11  reason         0 non-null      float64       \n",
      " 12  paymentMethod  398 non-null    object        \n",
      " 13  Age            0 non-null      float64       \n",
      " 14  career         0 non-null      float64       \n",
      " 15  day_week       398 non-null    category      \n",
      " 16  months         398 non-null    int64         \n",
      " 17  year           398 non-null    int64         \n",
      "dtypes: category(1), datetime64[ns](1), float64(3), int32(1), int64(2), object(10)\n",
      "memory usage: 52.2+ KB\n"
     ]
    }
   ],
   "source": [
    "df.info()"
   ]
  },
  {
   "cell_type": "code",
   "execution_count": 63,
   "metadata": {},
   "outputs": [
    {
     "data": {
      "image/png": "[encoded data removed]",
      "text/plain": [
       "<Figure size 720x432 with 1 Axes>"
      ]
     },
     "metadata": {
      "needs_background": "light"
     },
     "output_type": "display_data"
    }
   ],
   "source": [
    "plt.rc('font', size=12)\n",
    "fig, ax = plt.subplots(figsize=(10, 6))\n",
    "\n",
    "# Specify how our lines should look\n",
    "ax.plot(df.orderDate, df.total, color='tab:orange', label='total')\n",
    "\n",
    "# Same as above\n",
    "ax.set_xlabel('Time')\n",
    "ax.set_ylabel('total')\n",
    "ax.set_title('Majarrah growth')\n",
    "ax.grid(True)\n",
    "ax.legend(loc='upper left');"
   ]
  },
  {
   "cell_type": "code",
   "execution_count": 65,
   "metadata": {
    "scrolled": false
   },
   "outputs": [
    {
     "data": {
      "image/png": "[encoded data removed]",
      "text/plain": [
       "<Figure size 720x432 with 1 Axes>"
      ]
     },
     "execution_count": 65,
     "metadata": {},
     "output_type": "execute_result"
    }
   ],
   "source": [
    "from matplotlib.dates import DateFormatter, DayLocator\n",
    "\n",
    "# Set the x-axis to do major ticks on the days and label them like '07/20'\n",
    "ax.xaxis.set_major_locator(DayLocator())\n",
    "ax.xaxis.set_major_formatter(DateFormatter('%m'))\n",
    "\n",
    "fig"
   ]
  },
  {
   "cell_type": "code",
   "execution_count": 56,
   "metadata": {},
   "outputs": [
    {
     "data": {
      "text/plain": [
       "[<matplotlib.lines.Line2D at 0x28913938940>]"
      ]
     },
     "execution_count": 56,
     "metadata": {},
     "output_type": "execute_result"
    },
    {
     "data": {
      "image/png": "[encoded data removed]",
      "text/plain": [
       "<Figure size 432x288 with 1 Axes>"
      ]
     },
     "metadata": {
      "needs_background": "light"
     },
     "output_type": "display_data"
    }
   ],
   "source": [
    "plt.plot([],[])"
   ]
  },
  {
   "cell_type": "code",
   "execution_count": 57,
   "metadata": {},
   "outputs": [
    {
     "data": {
      "image/png": "[encoded data removed]",
      "text/plain": [
       "<Figure size 432x288 with 1 Axes>"
      ]
     },
     "metadata": {
      "needs_background": "light"
     },
     "output_type": "display_data"
    }
   ],
   "source": [
    "import datetime\n",
    "import random\n",
    "import matplotlib.pyplot as plt\n",
    "import matplotlib.dates as mdates\n",
    "\n",
    "\n",
    "# make up some data\n",
    "x = [datetime.datetime.now() + datetime.timedelta(minutes=i) for i in range(12)]\n",
    "y = [i+random.gauss(0,1) for i,_ in enumerate(x)]\n",
    "\n",
    "# plot\n",
    "plt.plot([],[])\n",
    "plt.scatter(x,y)\n",
    "\n",
    "# beautify the x-labels\n",
    "plt.gcf().autofmt_xdate()\n",
    "myFmt = mdates.DateFormatter('%H:%M')\n",
    "plt.gca().xaxis.set_major_formatter(myFmt)\n",
    "\n",
    "plt.show()\n",
    "plt.close()"
   ]
  },
  {
   "cell_type": "code",
   "execution_count": 58,
   "metadata": {},
   "outputs": [],
   "source": [
    "import matplotlib.dates as mdates\n",
    "myFmt = mdates.DateFormatter('%d')\n",
    "ax.xaxis.set_major_formatter(myFmt)"
   ]
  },
  {
   "cell_type": "code",
   "execution_count": 59,
   "metadata": {},
   "outputs": [
    {
     "data": {
      "image/png": "[encoded data removed]",
      "text/plain": [
       "<Figure size 432x288 with 1 Axes>"
      ]
     },
     "metadata": {
      "needs_background": "light"
     },
     "output_type": "display_data"
    }
   ],
   "source": [
    "import datetime\n",
    "import random\n",
    "import matplotlib.pyplot as plt\n",
    "\n",
    "# make up some data\n",
    "x = [datetime.datetime.now() + datetime.timedelta(hours=i) for i in range(12)]\n",
    "y = [i+random.gauss(0,1) for i,_ in enumerate(x)]\n",
    "\n",
    "# plot\n",
    "plt.plot(x,y)\n",
    "# beautify the x-labels\n",
    "plt.gcf().autofmt_xdate()\n",
    "\n",
    "plt.show()"
   ]
  },
  {
   "cell_type": "code",
   "execution_count": 67,
   "metadata": {},
   "outputs": [
    {
     "data": {
      "image/png": "[encoded data removed]",
      "text/plain": [
       "<Figure size 864x432 with 1 Axes>"
      ]
     },
     "metadata": {
      "needs_background": "light"
     },
     "output_type": "display_data"
    }
   ],
   "source": [
    "#df['orderDate'] = pd.to_datetime(data_orig['Date']) # convert date column to DateTime\n",
    "ax = df.plot(x='orderDate', y='total', figsize=(12,6))"
   ]
  },
  {
   "cell_type": "code",
   "execution_count": 84,
   "metadata": {},
   "outputs": [],
   "source": [
    "#pd.to_datetime(df['orderTime'])\n",
    "#df['orderTime'] = pd.to_datetime(df['orderTime'])\n",
    "\n",
    "date_time=pd.to_datetime(df.orderTime, format='%H:%M:%S')"
   ]
  },
  {
   "cell_type": "code",
   "execution_count": 87,
   "metadata": {},
   "outputs": [
    {
     "name": "stdout",
     "output_type": "stream",
     "text": [
      "<class 'pandas.core.frame.DataFrame'>\n",
      "RangeIndex: 398 entries, 0 to 397\n",
      "Data columns (total 15 columns):\n",
      " #   Column         Non-Null Count  Dtype  \n",
      "---  ------         --------------  -----  \n",
      " 0   orderNom       398 non-null    object \n",
      " 1   phoneNom       398 non-null    object \n",
      " 2   costomerName   398 non-null    object \n",
      " 3   Gender         398 non-null    object \n",
      " 4   Region         398 non-null    object \n",
      " 5   coordinates    398 non-null    object \n",
      " 6   orderDate      398 non-null    object \n",
      " 7   orderTime      398 non-null    object \n",
      " 8   total          398 non-null    object \n",
      " 9   Gift           398 non-null    object \n",
      " 10  cancelation    398 non-null    object \n",
      " 11  reason         0 non-null      float64\n",
      " 12  paymentMethod  398 non-null    object \n",
      " 13  Age            0 non-null      float64\n",
      " 14  career         0 non-null      float64\n",
      "dtypes: float64(3), object(12)\n",
      "memory usage: 46.8+ KB\n"
     ]
    }
   ],
   "source": [
    "df.info()"
   ]
  },
  {
   "cell_type": "code",
   "execution_count": 90,
   "metadata": {},
   "outputs": [
    {
     "data": {
      "image/png": "[encoded data removed]",
      "text/plain": [
       "<Figure size 864x432 with 1 Axes>"
      ]
     },
     "metadata": {
      "needs_background": "light"
     },
     "output_type": "display_data"
    }
   ],
   "source": [
    "#df['orderTime'] = pd.to_datetime(df['orderTime']) # convert date column to DateTime\n",
    "ax = df.plot(x='orderTime', y='total', figsize=(12,6))"
   ]
  },
  {
   "cell_type": "code",
   "execution_count": null,
   "metadata": {},
   "outputs": [],
   "source": []
  }
 ],
 "metadata": {
  "kernelspec": {
   "display_name": "Python 3",
   "language": "python",
   "name": "python3"
  },
  "language_info": {
   "codemirror_mode": {
    "name": "ipython",
    "version": 3
   },
   "file_extension": ".py",
   "mimetype": "text/x-python",
   "name": "python",
   "nbconvert_exporter": "python",
   "pygments_lexer": "ipython3",
   "version": "3.8.5"
  }
 },
 "nbformat": 4,
 "nbformat_minor": 4
}
